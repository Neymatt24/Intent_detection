{
  "nbformat": 4,
  "nbformat_minor": 0,
  "metadata": {
    "colab": {
      "provenance": []
    },
    "kernelspec": {
      "name": "python3",
      "display_name": "Python 3"
    },
    "language_info": {
      "name": "python"
    }
  },
  "cells": [
    {
      "cell_type": "code",
      "execution_count": null,
      "metadata": {
        "id": "cRgV3w9WqYCP"
      },
      "outputs": [],
      "source": [
        "import pandas as pd\n",
        "import numpy as np\n",
        "import tensorflow as tf\n",
        "from tensorflow.keras.preprocessing.text import Tokenizer\n",
        "from tensorflow.keras.preprocessing.sequence import pad_sequences\n",
        "from tensorflow.keras.models import Sequential\n",
        "from tensorflow.keras.layers import Embedding, LSTM, Dense\n",
        "from tensorflow.keras.metrics import Precision, Recall\n",
        "from tensorflow.keras import utils\n",
        "from sklearn.model_selection import train_test_split\n",
        "from sklearn.preprocessing import LabelEncoder\n",
        "from sklearn import metrics\n",
        "import matplotlib.pyplot as plt\n",
        "import json"
      ]
    },
    {
      "cell_type": "code",
      "source": [
        "file_path = \"data_full.json\"\n",
        "\n",
        "with open(file_path, \"r\") as file:\n",
        "    data = json.load(file)\n",
        "\n",
        "\n",
        "train_data = []\n",
        "for item in data['train']:\n",
        "    train_data.append({'text': item[0], 'intent': item[1]})\n",
        "\n",
        "test_data = []\n",
        "for item in data['test']:\n",
        "    test_data.append({'text': item[0], 'intent': item[1]})\n",
        "\n",
        "val_data = []\n",
        "for item in data['val']:\n",
        "    val_data.append({'text': item[0], 'intent': item[1]})\n",
        "\n",
        "# Convert to DataFrames\n",
        "train_df = pd.DataFrame(train_data)\n",
        "test_df = pd.DataFrame(test_data)\n",
        "val_df = pd.DataFrame(val_data)\n",
        "\n",
        "\n",
        "# Combine train and validation sets\n",
        "train_df = pd.concat([train_df, val_df]).reset_index(drop=True)\n",
        "\n",
        "print(len(train_df))\n",
        "print(len(test_df))"
      ],
      "metadata": {
        "colab": {
          "base_uri": "https://localhost:8080/"
        },
        "id": "ECssDji2r4xs",
        "outputId": "539c35cb-747a-46c4-d8e0-634670ed8aba"
      },
      "execution_count": null,
      "outputs": [
        {
          "output_type": "stream",
          "name": "stdout",
          "text": [
            "18000\n",
            "4500\n"
          ]
        }
      ]
    },
    {
      "cell_type": "code",
      "source": [
        "print(train_df['intent'].unique().shape)"
      ],
      "metadata": {
        "id": "C0SiGyjEsRW2",
        "colab": {
          "base_uri": "https://localhost:8080/"
        },
        "outputId": "974968e0-c3fc-457a-9af6-a196492282f6"
      },
      "execution_count": null,
      "outputs": [
        {
          "output_type": "stream",
          "name": "stdout",
          "text": [
            "(150,)\n"
          ]
        }
      ]
    },
    {
      "cell_type": "code",
      "source": [
        "# Set random seeds for reproducibility\n",
        "tf.random.set_seed(42)\n",
        "np.random.seed(42)\n",
        "\n",
        "# Prepare Features and Labels\n",
        "x_train = train_df['text']\n",
        "y_train = train_df['intent']\n",
        "\n",
        "x_test = test_df['text']\n",
        "y_test = test_df['intent']\n",
        "\n",
        "x_val = val_df['text']\n",
        "y_val = val_df['intent']\n",
        "\n",
        "# Initialize and fit the tokenizer\n",
        "tokenizer = Tokenizer()\n",
        "tokenizer.fit_on_texts(list(x_train))\n",
        "\n",
        "# Convert text to sequence\n",
        "x_train_seq = tokenizer.texts_to_sequences(list(x_train))\n",
        "x_test_seq = tokenizer.texts_to_sequences(list(x_test))\n",
        "x_val_seq = tokenizer.texts_to_sequences(list(x_val))\n",
        "\n",
        "# Calculate maximum sequence length\n",
        "X_seq_len = [len(x) for x in x_train_seq]\n",
        "X_test_seq_len = [len(x) for x in x_test_seq]\n",
        "X_val_seq_len = [len(x) for x in x_val_seq]\n",
        "max_len = max(max(X_seq_len), max(max(X_test_seq_len), max(X_val_seq_len)))\n",
        "\n",
        "# Pad sequences\n",
        "X = pad_sequences(x_train_seq, maxlen=max_len, padding='post')\n",
        "X_test = pad_sequences(x_test_seq, maxlen=max_len, padding='post')\n",
        "X_val = pad_sequences(x_val_seq, maxlen=max_len, padding='post')\n",
        "\n",
        "# Label Encoding for outputs\n",
        "label_encoder = LabelEncoder()\n",
        "y_train_encoded = label_encoder.fit_transform(y_train)\n",
        "y_test_encoded = label_encoder.transform(y_test)\n",
        "y_val_encoded = label_encoder.transform(y_val)\n",
        "\n",
        "# One-Hot Encoding\n",
        "y_train_encoded = utils.to_categorical(y_train_encoded)\n",
        "y_test_encoded = utils.to_categorical(y_test_encoded)\n",
        "y_val_encoded = utils.to_categorical(y_val_encoded)\n",
        "print(y_train_encoded)"
      ],
      "metadata": {
        "colab": {
          "base_uri": "https://localhost:8080/"
        },
        "id": "bFHVeyW42PVf",
        "outputId": "e98ccf70-7c07-4163-fd04-6ec4a79b8d53"
      },
      "execution_count": null,
      "outputs": [
        {
          "output_type": "stream",
          "name": "stdout",
          "text": [
            "[[0. 0. 0. ... 0. 0. 0.]\n",
            " [0. 0. 0. ... 0. 0. 0.]\n",
            " [0. 0. 0. ... 0. 0. 0.]\n",
            " ...\n",
            " [0. 0. 0. ... 0. 0. 0.]\n",
            " [0. 0. 0. ... 0. 0. 0.]\n",
            " [0. 0. 0. ... 0. 0. 0.]]\n"
          ]
        }
      ]
    },
    {
      "cell_type": "code",
      "source": [
        "y_train_encoded[0].shape"
      ],
      "metadata": {
        "colab": {
          "base_uri": "https://localhost:8080/"
        },
        "id": "yc_fVd6Sgryn",
        "outputId": "fbbefbcc-d48f-4f0d-f950-3fa14d019e15"
      },
      "execution_count": null,
      "outputs": [
        {
          "output_type": "execute_result",
          "data": {
            "text/plain": [
              "(150,)"
            ]
          },
          "metadata": {},
          "execution_count": 53
        }
      ]
    },
    {
      "cell_type": "code",
      "source": [
        "# Model parameters\n",
        "VAL_SPLIT = 0.1\n",
        "BATCH_SIZE = 32\n",
        "EPOCHS = 10\n",
        "EMBEDDING_DIM = 100\n",
        "NUM_UNITS = 64\n",
        "NUM_CLASSES = 150\n",
        "VOCAB_SIZE = len(tokenizer.word_index) + 1\n",
        "\n",
        "# Define the LSTM model\n",
        "lstm_model = Sequential([\n",
        "    Embedding(input_dim=VOCAB_SIZE,\n",
        "             output_dim=EMBEDDING_DIM,\n",
        "             input_length=max_len,\n",
        "             mask_zero=True),\n",
        "    LSTM(NUM_UNITS, activation='relu', return_sequences=True),\n",
        "    LSTM(NUM_UNITS, activation='relu'),\n",
        "    Dense(NUM_UNITS, activation='relu'),\n",
        "    Dense(NUM_CLASSES, activation='softmax')\n",
        "])\n",
        "\n",
        "# Compile the Model\n",
        "lstm_model.compile(\n",
        "    optimizer='adam',\n",
        "    loss='categorical_crossentropy',\n",
        "    metrics=['accuracy',Precision(),Recall()]\n",
        ")"
      ],
      "metadata": {
        "id": "N1s8vnJp2s1d"
      },
      "execution_count": null,
      "outputs": []
    },
    {
      "cell_type": "code",
      "source": [
        "# Train the model\n",
        "history = lstm_model.fit(\n",
        "    X, y_train_encoded,\n",
        "    validation_split=VAL_SPLIT,\n",
        "    batch_size=BATCH_SIZE,\n",
        "    epochs=EPOCHS,\n",
        "    verbose=1\n",
        ")"
      ],
      "metadata": {
        "colab": {
          "base_uri": "https://localhost:8080/"
        },
        "id": "v4XUvnHvgk8L",
        "outputId": "04bc5165-5860-407d-94b9-0317ddc79187"
      },
      "execution_count": null,
      "outputs": [
        {
          "output_type": "stream",
          "name": "stdout",
          "text": [
            "Epoch 1/10\n",
            "\u001b[1m507/507\u001b[0m \u001b[32m━━━━━━━━━━━━━━━━━━━━\u001b[0m\u001b[37m\u001b[0m \u001b[1m41s\u001b[0m 63ms/step - accuracy: 0.0459 - loss: 4.6414 - precision_6: 0.3913 - recall_6: 0.0073 - val_accuracy: 0.3456 - val_loss: 2.5573 - val_precision_6: 0.6067 - val_recall_6: 0.1200\n",
            "Epoch 2/10\n",
            "\u001b[1m507/507\u001b[0m \u001b[32m━━━━━━━━━━━━━━━━━━━━\u001b[0m\u001b[37m\u001b[0m \u001b[1m31s\u001b[0m 62ms/step - accuracy: 0.5217 - loss: 1.7970 - precision_6: 0.8130 - recall_6: 0.3034 - val_accuracy: 0.6872 - val_loss: 1.3052 - val_precision_6: 0.8603 - val_recall_6: 0.5611\n",
            "Epoch 3/10\n",
            "\u001b[1m507/507\u001b[0m \u001b[32m━━━━━━━━━━━━━━━━━━━━\u001b[0m\u001b[37m\u001b[0m \u001b[1m35s\u001b[0m 68ms/step - accuracy: 0.7942 - loss: 0.7872 - precision_6: 0.8956 - recall_6: 0.6860 - val_accuracy: 0.7450 - val_loss: 1.1417 - val_precision_6: 0.8518 - val_recall_6: 0.6800\n",
            "Epoch 4/10\n",
            "\u001b[1m507/507\u001b[0m \u001b[32m━━━━━━━━━━━━━━━━━━━━\u001b[0m\u001b[37m\u001b[0m \u001b[1m31s\u001b[0m 62ms/step - accuracy: 0.8797 - loss: 0.4584 - precision_6: 0.9351 - recall_6: 0.8271 - val_accuracy: 0.7467 - val_loss: 1.1746 - val_precision_6: 0.8317 - val_recall_6: 0.7028\n",
            "Epoch 5/10\n",
            "\u001b[1m507/507\u001b[0m \u001b[32m━━━━━━━━━━━━━━━━━━━━\u001b[0m\u001b[37m\u001b[0m \u001b[1m31s\u001b[0m 61ms/step - accuracy: 0.9194 - loss: 0.3124 - precision_6: 0.9483 - recall_6: 0.8825 - val_accuracy: 0.7789 - val_loss: 1.1284 - val_precision_6: 0.8489 - val_recall_6: 0.7461\n",
            "Epoch 6/10\n",
            "\u001b[1m507/507\u001b[0m \u001b[32m━━━━━━━━━━━━━━━━━━━━\u001b[0m\u001b[37m\u001b[0m \u001b[1m41s\u001b[0m 62ms/step - accuracy: 0.9441 - loss: 0.2106 - precision_6: 0.9647 - recall_6: 0.9253 - val_accuracy: 0.7828 - val_loss: 1.1975 - val_precision_6: 0.8384 - val_recall_6: 0.7578\n",
            "Epoch 7/10\n",
            "\u001b[1m507/507\u001b[0m \u001b[32m━━━━━━━━━━━━━━━━━━━━\u001b[0m\u001b[37m\u001b[0m \u001b[1m41s\u001b[0m 61ms/step - accuracy: 0.9522 - loss: 0.1723 - precision_6: 0.9657 - recall_6: 0.9381 - val_accuracy: 0.7989 - val_loss: 1.2350 - val_precision_6: 0.8485 - val_recall_6: 0.7839\n",
            "Epoch 8/10\n",
            "\u001b[1m507/507\u001b[0m \u001b[32m━━━━━━━━━━━━━━━━━━━━\u001b[0m\u001b[37m\u001b[0m \u001b[1m40s\u001b[0m 60ms/step - accuracy: 0.9636 - loss: 0.1322 - precision_6: 0.9730 - recall_6: 0.9532 - val_accuracy: 0.7933 - val_loss: 1.3103 - val_precision_6: 0.8375 - val_recall_6: 0.7761\n",
            "Epoch 9/10\n",
            "\u001b[1m507/507\u001b[0m \u001b[32m━━━━━━━━━━━━━━━━━━━━\u001b[0m\u001b[37m\u001b[0m \u001b[1m43s\u001b[0m 63ms/step - accuracy: 0.9713 - loss: 0.1083 - precision_6: 0.9788 - recall_6: 0.9621 - val_accuracy: 0.8217 - val_loss: 1.1973 - val_precision_6: 0.8632 - val_recall_6: 0.8094\n",
            "Epoch 10/10\n",
            "\u001b[1m507/507\u001b[0m \u001b[32m━━━━━━━━━━━━━━━━━━━━\u001b[0m\u001b[37m\u001b[0m \u001b[1m39s\u001b[0m 59ms/step - accuracy: 0.9751 - loss: 0.0990 - precision_6: 0.9816 - recall_6: 0.9688 - val_accuracy: 0.8117 - val_loss: 1.3050 - val_precision_6: 0.8491 - val_recall_6: 0.8033\n"
          ]
        }
      ]
    },
    {
      "cell_type": "code",
      "source": [
        "# Evaluate the model\n",
        "test_loss, test_accuracy, test_precision, test_recall = lstm_model.evaluate(X_test, y_test_encoded)\n",
        "print(f\"\\nTest Accuracy: {test_accuracy:.4f}\")\n",
        "print(f\"Test Precision: {test_precision:.4f}\")\n",
        "print(f\"Test Recall: {test_recall:.4f}\")"
      ],
      "metadata": {
        "colab": {
          "base_uri": "https://localhost:8080/"
        },
        "id": "cFXKx1qJiGtL",
        "outputId": "4d06db35-f9a2-4777-eac8-56a8af097ad0"
      },
      "execution_count": null,
      "outputs": [
        {
          "output_type": "stream",
          "name": "stdout",
          "text": [
            "\u001b[1m141/141\u001b[0m \u001b[32m━━━━━━━━━━━━━━━━━━━━\u001b[0m\u001b[37m\u001b[0m \u001b[1m2s\u001b[0m 14ms/step - accuracy: 0.8083 - loss: 1.1836 - precision_6: 0.8486 - recall_6: 0.7900\n",
            "\n",
            "Test Accuracy: 0.7989\n",
            "Test Precision: 0.8370\n",
            "Test Recall: 0.7838\n"
          ]
        }
      ]
    },
    {
      "cell_type": "code",
      "source": [
        "# Plot training history\n",
        "plt.figure(figsize=(12, 4))\n",
        "\n",
        "plt.subplot(1, 2, 1)\n",
        "plt.plot(history.history['accuracy'])\n",
        "plt.plot(history.history['val_accuracy'])\n",
        "plt.title('Model Accuracy')\n",
        "plt.ylabel('Accuracy')\n",
        "plt.xlabel('Epoch')\n",
        "plt.legend(['Train', 'Validation'])\n",
        "\n",
        "plt.subplot(1, 2, 2)\n",
        "plt.plot(history.history['loss'])\n",
        "plt.plot(history.history['val_loss'])\n",
        "plt.title('Model Loss')\n",
        "plt.ylabel('Loss')\n",
        "plt.xlabel('Epoch')\n",
        "plt.legend(['Train', 'Validation'])\n",
        "\n",
        "plt.tight_layout()\n",
        "plt.show()"
      ],
      "metadata": {
        "colab": {
          "base_uri": "https://localhost:8080/",
          "height": 262
        },
        "id": "jtIXWcIyiM_s",
        "outputId": "93ccc714-0efa-4586-c24a-518a5fe95992"
      },
      "execution_count": null,
      "outputs": [
        {
          "output_type": "display_data",
          "data": {
            "text/plain": [
              "<Figure size 1200x400 with 2 Axes>"
            ],
            "image/png": "[encoded data removed]"
          },
          "metadata": {}
        }
      ]
    },
    {
      "cell_type": "code",
      "source": [
        "# Function to make predictions\n",
        "def predict_intent(text):\n",
        "    # Tokenize and pad the input text\n",
        "    sequence = tokenizer.texts_to_sequences([text])\n",
        "    padded = pad_sequences(sequence, maxlen=max_len, padding='post')\n",
        "\n",
        "    # Make prediction\n",
        "    prediction = lstm_model.predict(padded)\n",
        "    predicted_class = label_encoder.inverse_transform([prediction.argmax()])[0]\n",
        "\n",
        "    return predicted_class\n",
        "\n",
        "# Test the model with some example queries\n",
        "test_queries = [\n",
        "    \"what time is it now?\",\n",
        "    \"I need to book a hotel for tomorrow\",\n",
        "    \"what's my insurance coverage?\"\n",
        "]\n",
        "\n",
        "for query in test_queries:\n",
        "    predicted_intent = predict_intent(query)\n",
        "    print(f\"\\nQuery: {query}\")\n",
        "    print(f\"Predicted Intent: {predicted_intent}\")"
      ],
      "metadata": {
        "colab": {
          "base_uri": "https://localhost:8080/"
        },
        "id": "rWk-XuvkiRSv",
        "outputId": "4e71de55-076d-43f6-9a6b-8a58e2fcb832"
      },
      "execution_count": null,
      "outputs": [
        {
          "output_type": "stream",
          "name": "stdout",
          "text": [
            "\u001b[1m1/1\u001b[0m \u001b[32m━━━━━━━━━━━━━━━━━━━━\u001b[0m\u001b[37m\u001b[0m \u001b[1m1s\u001b[0m 508ms/step\n",
            "\n",
            "Query: what time is it now?\n",
            "Predicted Intent: time\n",
            "\u001b[1m1/1\u001b[0m \u001b[32m━━━━━━━━━━━━━━━━━━━━\u001b[0m\u001b[37m\u001b[0m \u001b[1m0s\u001b[0m 32ms/step\n",
            "\n",
            "Query: I need to book a hotel for tomorrow\n",
            "Predicted Intent: book_hotel\n",
            "\u001b[1m1/1\u001b[0m \u001b[32m━━━━━━━━━━━━━━━━━━━━\u001b[0m\u001b[37m\u001b[0m \u001b[1m0s\u001b[0m 32ms/step\n",
            "\n",
            "Query: what's my insurance coverage?\n",
            "Predicted Intent: insurance\n"
          ]
        }
      ]
    },
    {
      "cell_type": "code",
      "source": [],
      "metadata": {
        "id": "DjWYWlVTloVm"
      },
      "execution_count": null,
      "outputs": []
    }
  ]
}